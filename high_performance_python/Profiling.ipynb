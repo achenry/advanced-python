{
 "cells": [
  {
   "cell_type": "code",
   "execution_count": null,
   "id": "d10bdaf9-364c-4521-813d-acdb31cce738",
   "metadata": {},
   "outputs": [],
   "source": [
    "import time\n",
    "start_time = time.teim()\n",
    "pass\n",
    "end_time = time.time()\n",
    "elapsed_time = end_time - start_time\n",
    "print(f\"Elapsed time = {elapsed_time} seconds)"
   ]
  },
  {
   "cell_type": "code",
   "execution_count": 2,
   "id": "f74bff87-df6d-4f4b-bbc8-f42f714838e7",
   "metadata": {},
   "outputs": [],
   "source": [
    "from functools import wraps\n",
    "import time\n",
    "\n",
    "def timefn(fn):\n",
    "    @wraps(fn)\n",
    "    def measure_time(*args, **kwargs):\n",
    "        start_time = time.time()\n",
    "        results = fn(*args, **kwargs)\n",
    "        end_time = time.time()\n",
    "        print(f\"@timefn/; {fn.__name__} took {end_time - start_time} seconds to run\")\n",
    "        return result\n",
    "    return measure_time\n",
    "\n",
    "@timefn\n",
    "def my_func(a, b):\n",
    "    pass"
   ]
  },
  {
   "cell_type": "markdown",
   "id": "03c712e4-205a-4b1d-8b42-8c4182fb8c4e",
   "metadata": {},
   "source": [
    "Unix `time` command, system version rather than simpler shell version"
   ]
  },
  {
   "cell_type": "code",
   "execution_count": 10,
   "id": "dffd6a92-967e-4ab8-86c3-c2e313eab5d7",
   "metadata": {},
   "outputs": [
    {
     "name": "stdout",
     "output_type": "stream",
     "text": [
      "/usr/bin/time: illegal option -- -\n",
      "usage: time [-al] [-h | -p] [-o file] utility [argument ...]\n",
      "python: can't open file '/Users/ahenry/Documents/advanced-python/high_performance_python/sample.py': [Errno 2] No such file or directory\n",
      "real 0.03\n",
      "user 0.01\n",
      "sys 0.00\n"
     ]
    }
   ],
   "source": [
    "!/usr/bin/time --verbose python sample.py\n",
    "!/usr/bin/time -p python sample.py"
   ]
  },
  {
   "cell_type": "markdown",
   "id": "36aeaadc-9d34-4fd8-89aa-5261503f3ac2",
   "metadata": {},
   "source": [
    "start with `cProfile` module and `snakeviz` to visualize..."
   ]
  },
  {
   "cell_type": "code",
   "execution_count": 12,
   "id": "ec8aab3d-18bf-44bb-baf0-4f7bd342eb31",
   "metadata": {},
   "outputs": [
    {
     "name": "stdout",
     "output_type": "stream",
     "text": [
      "Traceback (most recent call last):\n",
      "  File \"<frozen runpy>\", line 198, in _run_module_as_main\n",
      "  File \"<frozen runpy>\", line 88, in _run_code\n",
      "  File \"/Users/ahenry/miniconda3/lib/python3.11/cProfile.py\", line 191, in <module>\n",
      "    main()\n",
      "  File \"/Users/ahenry/miniconda3/lib/python3.11/cProfile.py\", line 171, in main\n",
      "    with io.open_code(progname) as fp:\n",
      "         ^^^^^^^^^^^^^^^^^^^^^^\n",
      "FileNotFoundError: [Errno 2] No such file or directory: 'sample.py'\n",
      "Traceback (most recent call last):\n",
      "  File \"<frozen runpy>\", line 198, in _run_module_as_main\n",
      "  File \"<frozen runpy>\", line 88, in _run_code\n",
      "  File \"/Users/ahenry/miniconda3/lib/python3.11/cProfile.py\", line 191, in <module>\n",
      "    main()\n",
      "  File \"/Users/ahenry/miniconda3/lib/python3.11/cProfile.py\", line 171, in main\n",
      "    with io.open_code(progname) as fp:\n",
      "         ^^^^^^^^^^^^^^^^^^^^^^\n",
      "FileNotFoundError: [Errno 2] No such file or directory: 'sample.py'\n"
     ]
    }
   ],
   "source": [
    "!python -m cProfile -s cumulative sample.py\n",
    "!python -m cProfile -o profile.stats sample.py\n",
    "\n",
    "import pstats\n",
    "p = pstats.Stats(\"profile.stats\")\n",
    "p.sort_stats(\"cumulative\")\n",
    "p.print_stats()\n",
    "p.print_callers()\n",
    "p.print_callees()\n",
    "\n",
    "!pip install snakeviz\n",
    "!snakeviz profile.stats"
   ]
  },
  {
   "cell_type": "markdown",
   "id": "bbf26070-427f-448b-88b1-7f405dc9e60b",
   "metadata": {},
   "source": [
    "... then use that to guide which functions to profile line-by-line with `line_profiler` and `@profile` decorator ..."
   ]
  },
  {
   "cell_type": "code",
   "execution_count": 13,
   "id": "83e6934c-6aae-4697-bc1c-64c2dbe30bed",
   "metadata": {},
   "outputs": [
    {
     "name": "stdout",
     "output_type": "stream",
     "text": [
      "Collecting line_profiler\n",
      "  Downloading line_profiler-4.1.3-cp311-cp311-macosx_11_0_arm64.whl.metadata (34 kB)\n",
      "Downloading line_profiler-4.1.3-cp311-cp311-macosx_11_0_arm64.whl (132 kB)\n",
      "\u001b[2K   \u001b[90m━━━━━━━━━━━━━━━━━━━━━━━━━━━━━━━━━━━━━━━━\u001b[0m \u001b[32m132.8/132.8 kB\u001b[0m \u001b[31m3.5 MB/s\u001b[0m eta \u001b[36m0:00:00\u001b[0m\n",
      "\u001b[?25hInstalling collected packages: line_profiler\n",
      "Successfully installed line_profiler-4.1.3\n",
      "Could not find script sample.py\n"
     ]
    }
   ],
   "source": [
    "!pip install line_profiler\n",
    "!kernprof -l -v sample.py"
   ]
  },
  {
   "cell_type": "markdown",
   "id": "5362d004-7784-4bd0-a918-19c1bbad0a3a",
   "metadata": {},
   "source": [
    "... then use `timeit` module to time differnt types of simple expressions to test cost of individual expressions"
   ]
  },
  {
   "cell_type": "code",
   "execution_count": 14,
   "id": "587f38e6-2b9a-4ab1-8b7d-dc632c5d70ff",
   "metadata": {},
   "outputs": [
    {
     "name": "stdout",
     "output_type": "stream",
     "text": [
      "5 loops, best of 1: 2.35 msec per loop\n",
      "71.2 μs ± 1.46 μs per loop (mean ± std. dev. of 7 runs, 10,000 loops each)\n"
     ]
    }
   ],
   "source": [
    "!python -m timeit -n 5 -r 1 -s \"import numpy\" \"numpy.random.randint(0, 100, 10000)\"\n",
    "import numpy\n",
    "%timeit numpy.random.randint(0, 100, 10000)"
   ]
  },
  {
   "cell_type": "markdown",
   "id": "fab24658-3672-4fbf-ac19-5136d4161cac",
   "metadata": {},
   "source": []
  }
 ],
 "metadata": {
  "kernelspec": {
   "display_name": "Python 3 (ipykernel)",
   "language": "python",
   "name": "python3"
  },
  "language_info": {
   "codemirror_mode": {
    "name": "ipython",
    "version": 3
   },
   "file_extension": ".py",
   "mimetype": "text/x-python",
   "name": "python",
   "nbconvert_exporter": "python",
   "pygments_lexer": "ipython3",
   "version": "3.11.5"
  }
 },
 "nbformat": 4,
 "nbformat_minor": 5
}
