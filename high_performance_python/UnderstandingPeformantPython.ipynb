{
 "cells": [
  {
   "cell_type": "markdown",
   "id": "55b12b41-fed2-4cfe-826d-eb332081dd78",
   "metadata": {},
   "source": [
    "## Computing Units\n",
    "- Vectorization; Single Instruction, Multiple Data (SIMD); Hyperthreading; out-of-order execution; multicore architectures\n",
    "- Amdahl's law; global interpreter lock (GIL) "
   ]
  },
  {
   "cell_type": "markdown",
   "id": "974b8146-2d94-428f-aa9f-0c91b72b7878",
   "metadata": {},
   "source": [
    "## Memory Units\n",
    "Sequential read vs. random data; latency; read/write speeds inversely proportional to capacity; tiered approach to memory; asynchronous IO; preemptive caching"
   ]
  },
  {
   "cell_type": "markdown",
   "id": "b4e2252c-48f2-4383-babe-6dc368598cfd",
   "metadata": {},
   "source": [
    "## Communication Layers\n",
    "- frontside bus, external bus, PCI bus; heterogenous computing; network device\n",
    "- bus width, bus frequency\n",
    "- \"heavy data\""
   ]
  },
  {
   "cell_type": "markdown",
   "id": "abf15849-825c-4ecb-b9d2-3d353211d89e",
   "metadata": {},
   "source": [
    "## Python Virtual Machine\n",
    "- abstraction layer (no explicit memory allocation, transfer, or management) => vectorization not immediately achievable, garbage-collection deallocation hurts optimizations that rely on keeping L1/L2 cache filled\n",
    "- Python' dynamic types, and not being compiled =>use Cython\n",
    "- GIL can hurt performance if trying to parallelize => avoided by using multiple processes instead of multiple threads, or by using Cython"
   ]
  },
  {
   "cell_type": "markdown",
   "id": "82dc3c3d-9fa9-492a-a938-1cb2e0933c13",
   "metadata": {},
   "source": [
    "## Good Working Practises\n",
    "- `README`, `docs/`\n",
    "- `tests/`, `pytest` tool, `coverage` tool\n",
    "- Docstrings for each function, class, module\n",
    "- source control - commit daily\n",
    "- `PEP8` coding standard, `black` tool to write code to standard, `flake8` tool to lint\n",
    "- use `assert` statements to check that functions are behaving as expected\n",
    "- check and raise exceptions for unexpected data states\n",
    "- use `nbdime` to diff your jupyter Notebook"
   ]
  },
  {
   "cell_type": "code",
   "execution_count": null,
   "id": "88d3895c-edb3-4d54-8fe5-4b75a8f77f63",
   "metadata": {},
   "outputs": [],
   "source": []
  }
 ],
 "metadata": {
  "kernelspec": {
   "display_name": "Python 3 (ipykernel)",
   "language": "python",
   "name": "python3"
  },
  "language_info": {
   "codemirror_mode": {
    "name": "ipython",
    "version": 3
   },
   "file_extension": ".py",
   "mimetype": "text/x-python",
   "name": "python",
   "nbconvert_exporter": "python",
   "pygments_lexer": "ipython3",
   "version": "3.11.5"
  }
 },
 "nbformat": 4,
 "nbformat_minor": 5
}
